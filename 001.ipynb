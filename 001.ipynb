{
 "cells": [
  {
   "cell_type": "markdown",
   "metadata": {},
   "source": [
    "# [Solving Project Euler](http://www.vijayn.com/solving-project-euler/)\n",
    "## [Problem 1](https://projecteuler.net/problem=1)\n",
    "**Description**: If we list all the natural numbers below 10 that are multiples of 3 or 5, we get 3, 5, 6 and 9. The sum of these multiples is 23. Find the sum of all the multiples of 3 or 5 below 1000.\n",
    "\n",
    "**Commentary**: This is an easy problem to start with. It tests knowledge of set unions, specifically the fact that if an item is present in two sets A and B, then the union of the two sets A∪B should be formed by adding elements from both A and B, and removing the common elements once, since they have already been accounted for. Not doing so would result in double-counting.\n",
    "\n",
    "However, one can correctly solve this problem in code even without realizing this concept, because of how the OR function works in most programming languages\n",
    "\n",
    "**Resources**: Wikipedia article on [set unions](https://en.wikipedia.org/wiki/Union_(set_theory%29)"
   ]
  },
  {
   "cell_type": "markdown",
   "metadata": {},
   "source": [
    "### One possible solution"
   ]
  },
  {
   "cell_type": "code",
   "execution_count": null,
   "metadata": {},
   "outputs": [],
   "source": [
    "total = 0\n",
    "for i in range(1000):\n",
    "    if (i % 3) == 0 or (i % 5) == 0:\n",
    "        total += i\n",
    "\n",
    "print(total)"
   ]
  },
  {
   "cell_type": "markdown",
   "metadata": {},
   "source": [
    "### Same solution as above, implemented with list comprehension"
   ]
  },
  {
   "cell_type": "code",
   "execution_count": null,
   "metadata": {},
   "outputs": [],
   "source": [
    "total = sum(i for i in range(1000) if i%3 ==0 or i%5 == 0)\n",
    "print(total)"
   ]
  },
  {
   "cell_type": "markdown",
   "metadata": {},
   "source": [
    "### An incorrect solution\n",
    "\n",
    "As I have pointed out above, the wrong way to solve this problem would be to double count those numbers that are multiples of both 3 and 5. If this were done, the first 10 numbers in the series would be 3, 5, 6, 9, 10, 12, 15, **15**, 18, 20. Note the second instance of 15. Of course, this would no longer be a set, because of the presence of a duplicate item."
   ]
  },
  {
   "cell_type": "code",
   "execution_count": null,
   "metadata": {
    "collapsed": true
   },
   "outputs": [],
   "source": [
    "# Incorrect solution, listed for illustrative purposes only\n",
    "total = 0\n",
    "for i in range(1000):\n",
    "    if i % 3 == 0:\n",
    "        total += i\n",
    "    if i % 5 == 0:\n",
    "        total += i\n",
    "print(total)"
   ]
  },
  {
   "cell_type": "markdown",
   "metadata": {},
   "source": [
    "### But... does it scale?\n",
    "\n",
    "An important question to ask when solving is a problem is if the solution scales well for larger values of input. The solution listed above is great for computing the results for n = 1000. However, as we keep increasing the value of n, we will notice that the time taken to compute the result increases linearly. This is to be expected, since the solution is O(n).\n",
    "\n",
    "### Can we do better?\n",
    "\n",
    "Sure we can!\n",
    "\n",
    "Let us look at the problem once again. We are computing the sum of the multiples of 3: 3, 6, 9...n. The common factor of this series is 3. If we divide the series by the common factor, the series becomes 1, 2, 3...n/3. In other words, this is the [sum of the first i natural numbers](https://en.wikipedia.org/wiki/1_%2B_2_%2B_3_%2B_4_%2B_%E2%8B%AF) with the maximum of i being n/3. This can be calculated using the formula i * (i+1)/2. Multiplying this by the common factor 3 would give us the sum of the series 3, 6, 9...n. This has effectively made an O(n) computation an O(1) computation instead.\n",
    "\n",
    "We can repeat this to find the sum of the multiples of 5. From this, we will have to subtract the sum of the multiples of 15 because... double-counting!\n",
    "\n",
    "### Solution"
   ]
  },
  {
   "cell_type": "code",
   "execution_count": null,
   "metadata": {
    "collapsed": true
   },
   "outputs": [],
   "source": [
    "# Define a function to compute the sum to n\n",
    "def sum_to_n(n):\n",
    "    n = int(n)\n",
    "    return n * (n + 1) / 2\n",
    "\n",
    "\n",
    "n = 999\n",
    "# Add the sum of the multiples of 3 and 5, and subtract the sum of multiples of 15\n",
    "total = 3 * sum_to_n(n / 3) + 5 * sum_to_n(n / 5) - 15 * sum_to_n(n / 15)\n",
    "\n",
    "print(total)"
   ]
  }
 ],
 "metadata": {
  "kernelspec": {
   "display_name": "Python 3",
   "language": "python",
   "name": "python3"
  },
  "language_info": {
   "codemirror_mode": {
    "name": "ipython",
    "version": 3.0
   },
   "file_extension": ".py",
   "mimetype": "text/x-python",
   "name": "python",
   "nbconvert_exporter": "python",
   "pygments_lexer": "ipython3",
   "version": "3.6.0"
  }
 },
 "nbformat": 4,
 "nbformat_minor": 0
}